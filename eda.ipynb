{
 "cells": [
  {
   "cell_type": "markdown",
   "id": "ae8353cf",
   "metadata": {
    "papermill": {
     "duration": 0.011704,
     "end_time": "2024-03-08T18:28:39.365640",
     "exception": false,
     "start_time": "2024-03-08T18:28:39.353936",
     "status": "completed"
    },
    "tags": []
   },
   "source": [
    "## Import the dependencies"
   ]
  },
  {
   "cell_type": "code",
   "execution_count": 1,
   "id": "591c8868",
   "metadata": {
    "_cell_guid": "b1076dfc-b9ad-4769-8c92-a6c4dae69d19",
    "_uuid": "8f2839f25d086af736a60e9eeb907d3b93b6e0e5",
    "execution": {
     "iopub.execute_input": "2024-03-08T18:28:39.390281Z",
     "iopub.status.busy": "2024-03-08T18:28:39.389863Z",
     "iopub.status.idle": "2024-03-08T18:28:41.289353Z",
     "shell.execute_reply": "2024-03-08T18:28:41.288386Z"
    },
    "papermill": {
     "duration": 1.914856,
     "end_time": "2024-03-08T18:28:41.291917",
     "exception": false,
     "start_time": "2024-03-08T18:28:39.377061",
     "status": "completed"
    },
    "tags": []
   },
   "outputs": [],
   "source": [
    "import numpy as np\n",
    "import pandas as pd\n",
    "\n",
    "import matplotlib.pyplot as plt\n",
    "import seaborn as sns\n",
    "\n",
    "from scipy.stats import skew, kurtosis"
   ]
  },
  {
   "cell_type": "markdown",
   "id": "84d7fe8f",
   "metadata": {
    "papermill": {
     "duration": 0.011064,
     "end_time": "2024-03-08T18:28:41.314595",
     "exception": false,
     "start_time": "2024-03-08T18:28:41.303531",
     "status": "completed"
    },
    "tags": []
   },
   "source": [
    "## Read the CSV file"
   ]
  },
  {
   "cell_type": "code",
   "execution_count": 2,
   "id": "c1d4f5e0",
   "metadata": {
    "execution": {
     "iopub.execute_input": "2024-03-08T18:28:41.340084Z",
     "iopub.status.busy": "2024-03-08T18:28:41.338997Z",
     "iopub.status.idle": "2024-03-08T18:28:41.366689Z",
     "shell.execute_reply": "2024-03-08T18:28:41.365757Z"
    },
    "papermill": {
     "duration": 0.042708,
     "end_time": "2024-03-08T18:28:41.369123",
     "exception": false,
     "start_time": "2024-03-08T18:28:41.326415",
     "status": "completed"
    },
    "tags": []
   },
   "outputs": [],
   "source": [
    "df = pd.read_csv('/kaggle/input/top-classical-composers/classical_composers.csv', encoding='latin1')"
   ]
  },
  {
   "cell_type": "markdown",
   "id": "ff7c1c72",
   "metadata": {
    "papermill": {
     "duration": 0.01121,
     "end_time": "2024-03-08T18:28:41.392745",
     "exception": false,
     "start_time": "2024-03-08T18:28:41.381535",
     "status": "completed"
    },
    "tags": []
   },
   "source": [
    "## Let's start exploring the data"
   ]
  },
  {
   "cell_type": "code",
   "execution_count": 3,
   "id": "64d2ad37",
   "metadata": {
    "execution": {
     "iopub.execute_input": "2024-03-08T18:28:41.417895Z",
     "iopub.status.busy": "2024-03-08T18:28:41.417145Z",
     "iopub.status.idle": "2024-03-08T18:28:41.423824Z",
     "shell.execute_reply": "2024-03-08T18:28:41.423050Z"
    },
    "papermill": {
     "duration": 0.021691,
     "end_time": "2024-03-08T18:28:41.426078",
     "exception": false,
     "start_time": "2024-03-08T18:28:41.404387",
     "status": "completed"
    },
    "tags": []
   },
   "outputs": [
    {
     "data": {
      "text/plain": [
       "(101, 6)"
      ]
     },
     "execution_count": 3,
     "metadata": {},
     "output_type": "execute_result"
    }
   ],
   "source": [
    "# check the shape of the data\n",
    "df.shape"
   ]
  },
  {
   "cell_type": "code",
   "execution_count": 4,
   "id": "c20d8728",
   "metadata": {
    "execution": {
     "iopub.execute_input": "2024-03-08T18:28:41.452110Z",
     "iopub.status.busy": "2024-03-08T18:28:41.451398Z",
     "iopub.status.idle": "2024-03-08T18:28:41.471152Z",
     "shell.execute_reply": "2024-03-08T18:28:41.470030Z"
    },
    "papermill": {
     "duration": 0.035756,
     "end_time": "2024-03-08T18:28:41.473661",
     "exception": false,
     "start_time": "2024-03-08T18:28:41.437905",
     "status": "completed"
    },
    "tags": []
   },
   "outputs": [
    {
     "data": {
      "text/html": [
       "<div>\n",
       "<style scoped>\n",
       "    .dataframe tbody tr th:only-of-type {\n",
       "        vertical-align: middle;\n",
       "    }\n",
       "\n",
       "    .dataframe tbody tr th {\n",
       "        vertical-align: top;\n",
       "    }\n",
       "\n",
       "    .dataframe thead th {\n",
       "        text-align: right;\n",
       "    }\n",
       "</style>\n",
       "<table border=\"1\" class=\"dataframe\">\n",
       "  <thead>\n",
       "    <tr style=\"text-align: right;\">\n",
       "      <th></th>\n",
       "      <th>Composer</th>\n",
       "      <th>Nationality</th>\n",
       "      <th>Born</th>\n",
       "      <th>Died</th>\n",
       "      <th>Biggest Piece</th>\n",
       "      <th>Duration of Biggest Piece(mins)</th>\n",
       "    </tr>\n",
       "  </thead>\n",
       "  <tbody>\n",
       "    <tr>\n",
       "      <th>0</th>\n",
       "      <td>NaN</td>\n",
       "      <td>NaN</td>\n",
       "      <td>NaN</td>\n",
       "      <td>NaN</td>\n",
       "      <td>NaN</td>\n",
       "      <td>NaN</td>\n",
       "    </tr>\n",
       "    <tr>\n",
       "      <th>1</th>\n",
       "      <td>Ludwig van Beethoven</td>\n",
       "      <td>German</td>\n",
       "      <td>1770.0</td>\n",
       "      <td>1791.0</td>\n",
       "      <td>Symphony No. 9</td>\n",
       "      <td>65.0</td>\n",
       "    </tr>\n",
       "    <tr>\n",
       "      <th>2</th>\n",
       "      <td>Wolfgang Amadeus Mozart</td>\n",
       "      <td>Austrian</td>\n",
       "      <td>1756.0</td>\n",
       "      <td>1791.0</td>\n",
       "      <td>Symphony No.41</td>\n",
       "      <td>33.0</td>\n",
       "    </tr>\n",
       "    <tr>\n",
       "      <th>3</th>\n",
       "      <td>Johann Sebastian Bach</td>\n",
       "      <td>German</td>\n",
       "      <td>1685.0</td>\n",
       "      <td>1750.0</td>\n",
       "      <td>Mass in B minor</td>\n",
       "      <td>125.0</td>\n",
       "    </tr>\n",
       "    <tr>\n",
       "      <th>4</th>\n",
       "      <td>Richard Wagner</td>\n",
       "      <td>German</td>\n",
       "      <td>1813.0</td>\n",
       "      <td>1883.0</td>\n",
       "      <td>Der Ring des Nibelungen</td>\n",
       "      <td>NaN</td>\n",
       "    </tr>\n",
       "  </tbody>\n",
       "</table>\n",
       "</div>"
      ],
      "text/plain": [
       "                   Composer   Nationality     Born    Died  \\\n",
       "0                       NaN            NaN     NaN     NaN   \n",
       "1      Ludwig van Beethoven      German     1770.0  1791.0   \n",
       "2  Wolfgang Amadeus Mozart        Austrian  1756.0  1791.0   \n",
       "3    Johann Sebastian Bach       German     1685.0  1750.0   \n",
       "4            Richard Wagner      German     1813.0  1883.0   \n",
       "\n",
       "             Biggest Piece  Duration of Biggest Piece(mins)  \n",
       "0                      NaN                              NaN  \n",
       "1        Symphony No. 9                                65.0  \n",
       "2           Symphony No.41                             33.0  \n",
       "3          Mass in B minor                            125.0  \n",
       "4  Der Ring des Nibelungen                              NaN  "
      ]
     },
     "execution_count": 4,
     "metadata": {},
     "output_type": "execute_result"
    }
   ],
   "source": [
    "df.head()"
   ]
  },
  {
   "cell_type": "code",
   "execution_count": 5,
   "id": "17aa1142",
   "metadata": {
    "execution": {
     "iopub.execute_input": "2024-03-08T18:28:41.500281Z",
     "iopub.status.busy": "2024-03-08T18:28:41.499870Z",
     "iopub.status.idle": "2024-03-08T18:28:41.514927Z",
     "shell.execute_reply": "2024-03-08T18:28:41.513871Z"
    },
    "papermill": {
     "duration": 0.030686,
     "end_time": "2024-03-08T18:28:41.517156",
     "exception": false,
     "start_time": "2024-03-08T18:28:41.486470",
     "status": "completed"
    },
    "tags": []
   },
   "outputs": [
    {
     "data": {
      "text/html": [
       "<div>\n",
       "<style scoped>\n",
       "    .dataframe tbody tr th:only-of-type {\n",
       "        vertical-align: middle;\n",
       "    }\n",
       "\n",
       "    .dataframe tbody tr th {\n",
       "        vertical-align: top;\n",
       "    }\n",
       "\n",
       "    .dataframe thead th {\n",
       "        text-align: right;\n",
       "    }\n",
       "</style>\n",
       "<table border=\"1\" class=\"dataframe\">\n",
       "  <thead>\n",
       "    <tr style=\"text-align: right;\">\n",
       "      <th></th>\n",
       "      <th>Composer</th>\n",
       "      <th>Nationality</th>\n",
       "      <th>Born</th>\n",
       "      <th>Died</th>\n",
       "      <th>Biggest Piece</th>\n",
       "      <th>Duration of Biggest Piece(mins)</th>\n",
       "    </tr>\n",
       "  </thead>\n",
       "  <tbody>\n",
       "    <tr>\n",
       "      <th>96</th>\n",
       "      <td>Manuel de Falla</td>\n",
       "      <td>Spanish</td>\n",
       "      <td>1876.0</td>\n",
       "      <td>1946.0</td>\n",
       "      <td>El amor brujo, Noches en los jardines de España</td>\n",
       "      <td>23.0</td>\n",
       "    </tr>\n",
       "    <tr>\n",
       "      <th>97</th>\n",
       "      <td>Hildegard von Bingen</td>\n",
       "      <td>German</td>\n",
       "      <td>1098.0</td>\n",
       "      <td>1179.0</td>\n",
       "      <td>Ordo Virtutum, Symphony of the Harmony of Cele...</td>\n",
       "      <td>NaN</td>\n",
       "    </tr>\n",
       "    <tr>\n",
       "      <th>98</th>\n",
       "      <td>Mikhail Glinka</td>\n",
       "      <td>Russian</td>\n",
       "      <td>1804.0</td>\n",
       "      <td>1857.0</td>\n",
       "      <td>A Life for the Tsar, Ruslan and Ludmila</td>\n",
       "      <td>NaN</td>\n",
       "    </tr>\n",
       "    <tr>\n",
       "      <th>99</th>\n",
       "      <td>Alexander Glazunov</td>\n",
       "      <td>Russian</td>\n",
       "      <td>1865.0</td>\n",
       "      <td>1936.0</td>\n",
       "      <td>The Seasons, Symphony No. 5</td>\n",
       "      <td>35.0</td>\n",
       "    </tr>\n",
       "    <tr>\n",
       "      <th>100</th>\n",
       "      <td>Don Carlo Gesualdo</td>\n",
       "      <td>Italian</td>\n",
       "      <td>1566.0</td>\n",
       "      <td>1613.0</td>\n",
       "      <td>Madrigals, Tenebrae Responsories</td>\n",
       "      <td>NaN</td>\n",
       "    </tr>\n",
       "  </tbody>\n",
       "</table>\n",
       "</div>"
      ],
      "text/plain": [
       "                 Composer   Nationality     Born    Died  \\\n",
       "96        Manuel de Falla        Spanish  1876.0  1946.0   \n",
       "97   Hildegard von Bingen      German     1098.0  1179.0   \n",
       "98         Mikhail Glinka        Russian  1804.0  1857.0   \n",
       "99     Alexander Glazunov        Russian  1865.0  1936.0   \n",
       "100    Don Carlo Gesualdo        Italian  1566.0  1613.0   \n",
       "\n",
       "                                         Biggest Piece  \\\n",
       "96     El amor brujo, Noches en los jardines de España   \n",
       "97   Ordo Virtutum, Symphony of the Harmony of Cele...   \n",
       "98             A Life for the Tsar, Ruslan and Ludmila   \n",
       "99                         The Seasons, Symphony No. 5   \n",
       "100                   Madrigals, Tenebrae Responsories   \n",
       "\n",
       "     Duration of Biggest Piece(mins)  \n",
       "96                              23.0  \n",
       "97                               NaN  \n",
       "98                               NaN  \n",
       "99                              35.0  \n",
       "100                              NaN  "
      ]
     },
     "execution_count": 5,
     "metadata": {},
     "output_type": "execute_result"
    }
   ],
   "source": [
    "df.tail()"
   ]
  },
  {
   "cell_type": "code",
   "execution_count": 6,
   "id": "6deb7544",
   "metadata": {
    "execution": {
     "iopub.execute_input": "2024-03-08T18:28:41.544105Z",
     "iopub.status.busy": "2024-03-08T18:28:41.543318Z",
     "iopub.status.idle": "2024-03-08T18:28:41.552060Z",
     "shell.execute_reply": "2024-03-08T18:28:41.551281Z"
    },
    "papermill": {
     "duration": 0.024818,
     "end_time": "2024-03-08T18:28:41.554509",
     "exception": false,
     "start_time": "2024-03-08T18:28:41.529691",
     "status": "completed"
    },
    "tags": []
   },
   "outputs": [],
   "source": [
    "# drop the first row as it's all nan values\n",
    "df = df.drop(0, axis=0)"
   ]
  },
  {
   "cell_type": "code",
   "execution_count": 7,
   "id": "fc8dba67",
   "metadata": {
    "execution": {
     "iopub.execute_input": "2024-03-08T18:28:41.581014Z",
     "iopub.status.busy": "2024-03-08T18:28:41.580605Z",
     "iopub.status.idle": "2024-03-08T18:28:41.587493Z",
     "shell.execute_reply": "2024-03-08T18:28:41.586369Z"
    },
    "papermill": {
     "duration": 0.022712,
     "end_time": "2024-03-08T18:28:41.589836",
     "exception": false,
     "start_time": "2024-03-08T18:28:41.567124",
     "status": "completed"
    },
    "tags": []
   },
   "outputs": [
    {
     "data": {
      "text/plain": [
       "(100, 6)"
      ]
     },
     "execution_count": 7,
     "metadata": {},
     "output_type": "execute_result"
    }
   ],
   "source": [
    "# check out the new shape of the dataframe\n",
    "df.shape"
   ]
  },
  {
   "cell_type": "markdown",
   "id": "b378f475",
   "metadata": {
    "papermill": {
     "duration": 0.01233,
     "end_time": "2024-03-08T18:28:41.614679",
     "exception": false,
     "start_time": "2024-03-08T18:28:41.602349",
     "status": "completed"
    },
    "tags": []
   },
   "source": []
  },
  {
   "cell_type": "code",
   "execution_count": 8,
   "id": "5389ab44",
   "metadata": {
    "execution": {
     "iopub.execute_input": "2024-03-08T18:28:41.641337Z",
     "iopub.status.busy": "2024-03-08T18:28:41.640903Z",
     "iopub.status.idle": "2024-03-08T18:28:41.663805Z",
     "shell.execute_reply": "2024-03-08T18:28:41.662463Z"
    },
    "papermill": {
     "duration": 0.040237,
     "end_time": "2024-03-08T18:28:41.667647",
     "exception": false,
     "start_time": "2024-03-08T18:28:41.627410",
     "status": "completed"
    },
    "tags": []
   },
   "outputs": [
    {
     "name": "stdout",
     "output_type": "stream",
     "text": [
      "<class 'pandas.core.frame.DataFrame'>\n",
      "RangeIndex: 100 entries, 1 to 100\n",
      "Data columns (total 6 columns):\n",
      " #   Column                           Non-Null Count  Dtype  \n",
      "---  ------                           --------------  -----  \n",
      " 0   Composer                         100 non-null    object \n",
      " 1     Nationality                    100 non-null    object \n",
      " 2    Born                            100 non-null    float64\n",
      " 3   Died                             100 non-null    float64\n",
      " 4   Biggest Piece                    100 non-null    object \n",
      " 5   Duration of Biggest Piece(mins)  64 non-null     float64\n",
      "dtypes: float64(3), object(3)\n",
      "memory usage: 4.8+ KB\n"
     ]
    }
   ],
   "source": [
    "df.info()"
   ]
  },
  {
   "cell_type": "code",
   "execution_count": 9,
   "id": "dbae0e1b",
   "metadata": {
    "execution": {
     "iopub.execute_input": "2024-03-08T18:28:41.695211Z",
     "iopub.status.busy": "2024-03-08T18:28:41.694138Z",
     "iopub.status.idle": "2024-03-08T18:28:41.701983Z",
     "shell.execute_reply": "2024-03-08T18:28:41.701242Z"
    },
    "papermill": {
     "duration": 0.023624,
     "end_time": "2024-03-08T18:28:41.704018",
     "exception": false,
     "start_time": "2024-03-08T18:28:41.680394",
     "status": "completed"
    },
    "tags": []
   },
   "outputs": [
    {
     "data": {
      "text/plain": [
       "Composer                            0\n",
       "  Nationality                       0\n",
       " Born                               0\n",
       "Died                                0\n",
       "Biggest Piece                       0\n",
       "Duration of Biggest Piece(mins)    36\n",
       "dtype: int64"
      ]
     },
     "execution_count": 9,
     "metadata": {},
     "output_type": "execute_result"
    }
   ],
   "source": [
    "df.isna().sum()"
   ]
  },
  {
   "cell_type": "markdown",
   "id": "6b4ac97f",
   "metadata": {
    "papermill": {
     "duration": 0.012257,
     "end_time": "2024-03-08T18:28:41.728878",
     "exception": false,
     "start_time": "2024-03-08T18:28:41.716621",
     "status": "completed"
    },
    "tags": []
   },
   "source": [
    "Only **Duration of Biggest Piece(mins)** has null values in this dataset."
   ]
  },
  {
   "cell_type": "code",
   "execution_count": 10,
   "id": "cd7680e5",
   "metadata": {
    "execution": {
     "iopub.execute_input": "2024-03-08T18:28:41.755990Z",
     "iopub.status.busy": "2024-03-08T18:28:41.755581Z",
     "iopub.status.idle": "2024-03-08T18:28:41.762482Z",
     "shell.execute_reply": "2024-03-08T18:28:41.761715Z"
    },
    "papermill": {
     "duration": 0.02293,
     "end_time": "2024-03-08T18:28:41.764576",
     "exception": false,
     "start_time": "2024-03-08T18:28:41.741646",
     "status": "completed"
    },
    "tags": []
   },
   "outputs": [
    {
     "data": {
      "text/plain": [
       "True"
      ]
     },
     "execution_count": 10,
     "metadata": {},
     "output_type": "execute_result"
    }
   ],
   "source": [
    "len(df['Composer'].unique()) == len(df)"
   ]
  },
  {
   "cell_type": "markdown",
   "id": "b0a2f078",
   "metadata": {
    "papermill": {
     "duration": 0.012449,
     "end_time": "2024-03-08T18:28:41.789944",
     "exception": false,
     "start_time": "2024-03-08T18:28:41.777495",
     "status": "completed"
    },
    "tags": []
   },
   "source": [
    "This means that all the names mentioned in the **Composer** column are unique. This makes sense!"
   ]
  },
  {
   "cell_type": "code",
   "execution_count": 11,
   "id": "b3e850b6",
   "metadata": {
    "execution": {
     "iopub.execute_input": "2024-03-08T18:28:41.818132Z",
     "iopub.status.busy": "2024-03-08T18:28:41.817416Z",
     "iopub.status.idle": "2024-03-08T18:28:41.824093Z",
     "shell.execute_reply": "2024-03-08T18:28:41.822984Z"
    },
    "papermill": {
     "duration": 0.023559,
     "end_time": "2024-03-08T18:28:41.826480",
     "exception": false,
     "start_time": "2024-03-08T18:28:41.802921",
     "status": "completed"
    },
    "tags": []
   },
   "outputs": [
    {
     "data": {
      "text/plain": [
       "Index(['Composer', '  Nationality ', ' Born', 'Died', 'Biggest Piece',\n",
       "       'Duration of Biggest Piece(mins)'],\n",
       "      dtype='object')"
      ]
     },
     "execution_count": 11,
     "metadata": {},
     "output_type": "execute_result"
    }
   ],
   "source": [
    "df.columns"
   ]
  },
  {
   "cell_type": "code",
   "execution_count": 12,
   "id": "bc013517",
   "metadata": {
    "execution": {
     "iopub.execute_input": "2024-03-08T18:28:41.854858Z",
     "iopub.status.busy": "2024-03-08T18:28:41.853819Z",
     "iopub.status.idle": "2024-03-08T18:28:41.861535Z",
     "shell.execute_reply": "2024-03-08T18:28:41.860487Z"
    },
    "papermill": {
     "duration": 0.024251,
     "end_time": "2024-03-08T18:28:41.863870",
     "exception": false,
     "start_time": "2024-03-08T18:28:41.839619",
     "status": "completed"
    },
    "tags": []
   },
   "outputs": [
    {
     "data": {
      "text/plain": [
       "Index(['Composer', 'Nationality', 'Born', 'Died', 'Biggest Piece',\n",
       "       'Duration of Biggest Piece(mins)'],\n",
       "      dtype='object')"
      ]
     },
     "execution_count": 12,
     "metadata": {},
     "output_type": "execute_result"
    }
   ],
   "source": [
    "df.columns = [i.strip() for i in df.columns]\n",
    "df.columns"
   ]
  },
  {
   "cell_type": "code",
   "execution_count": 13,
   "id": "5fe750f5",
   "metadata": {
    "execution": {
     "iopub.execute_input": "2024-03-08T18:28:41.891252Z",
     "iopub.status.busy": "2024-03-08T18:28:41.890855Z",
     "iopub.status.idle": "2024-03-08T18:28:41.900096Z",
     "shell.execute_reply": "2024-03-08T18:28:41.899148Z"
    },
    "papermill": {
     "duration": 0.025497,
     "end_time": "2024-03-08T18:28:41.902372",
     "exception": false,
     "start_time": "2024-03-08T18:28:41.876875",
     "status": "completed"
    },
    "tags": []
   },
   "outputs": [
    {
     "data": {
      "text/plain": [
       "Nationality\n",
       "German            17\n",
       "French            17\n",
       "Italian           15\n",
       "Russian           11\n",
       "English           10\n",
       "Austrian          10\n",
       "American           5\n",
       "Czech              3\n",
       "Hungarian          2\n",
       "Franco-Flemish     2\n",
       "Spanish            2\n",
       "Flemish            1\n",
       "Norweigen          1\n",
       "Belgian            1\n",
       "Polish             1\n",
       "Danish             1\n",
       "Finnish            1\n",
       "Name: count, dtype: int64"
      ]
     },
     "execution_count": 13,
     "metadata": {},
     "output_type": "execute_result"
    }
   ],
   "source": [
    "df['Nationality'].value_counts().sort_values(ascending=False)"
   ]
  },
  {
   "cell_type": "code",
   "execution_count": 14,
   "id": "d4c2de3a",
   "metadata": {
    "execution": {
     "iopub.execute_input": "2024-03-08T18:28:41.930287Z",
     "iopub.status.busy": "2024-03-08T18:28:41.929909Z",
     "iopub.status.idle": "2024-03-08T18:28:41.937913Z",
     "shell.execute_reply": "2024-03-08T18:28:41.936829Z"
    },
    "papermill": {
     "duration": 0.024792,
     "end_time": "2024-03-08T18:28:41.940192",
     "exception": false,
     "start_time": "2024-03-08T18:28:41.915400",
     "status": "completed"
    },
    "tags": []
   },
   "outputs": [
    {
     "data": {
      "text/plain": [
       "80"
      ]
     },
     "execution_count": 14,
     "metadata": {},
     "output_type": "execute_result"
    }
   ],
   "source": [
    "total_top_6 = df['Nationality'].value_counts()[:6].sum()\n",
    "total_top_6"
   ]
  },
  {
   "cell_type": "markdown",
   "id": "68f2aad7",
   "metadata": {
    "papermill": {
     "duration": 0.013592,
     "end_time": "2024-03-08T18:28:41.967391",
     "exception": false,
     "start_time": "2024-03-08T18:28:41.953799",
     "status": "completed"
    },
    "tags": []
   },
   "source": [
    "80 of the 100 composers in the dataset are from six nationalities - German, French, Italian, Russian, English and Austrian."
   ]
  },
  {
   "cell_type": "code",
   "execution_count": 15,
   "id": "b4e5f9ef",
   "metadata": {
    "execution": {
     "iopub.execute_input": "2024-03-08T18:28:41.996272Z",
     "iopub.status.busy": "2024-03-08T18:28:41.995894Z",
     "iopub.status.idle": "2024-03-08T18:28:42.614662Z",
     "shell.execute_reply": "2024-03-08T18:28:42.613546Z"
    },
    "papermill": {
     "duration": 0.636465,
     "end_time": "2024-03-08T18:28:42.617610",
     "exception": false,
     "start_time": "2024-03-08T18:28:41.981145",
     "status": "completed"
    },
    "tags": []
   },
   "outputs": [
    {
     "data": {
      "image/png": "[encoded data removed]",
      "text/plain": [
       "<Figure size 1000x700 with 1 Axes>"
      ]
     },
     "metadata": {},
     "output_type": "display_data"
    }
   ],
   "source": [
    "plt.figure(figsize=(10, 7))\n",
    "sns.countplot(data=df, x='Nationality', order=df['Nationality'].value_counts().index, palette='pastel')\n",
    "plt.title('Histogram of Nationalities of Composers')\n",
    "plt.xlabel('Nationalities')\n",
    "plt.ylabel('Counts')\n",
    "plt.xticks(rotation=45)\n",
    "plt.tight_layout()\n",
    "plt.show()"
   ]
  },
  {
   "cell_type": "code",
   "execution_count": 16,
   "id": "74db4e65",
   "metadata": {
    "execution": {
     "iopub.execute_input": "2024-03-08T18:28:42.648202Z",
     "iopub.status.busy": "2024-03-08T18:28:42.647403Z",
     "iopub.status.idle": "2024-03-08T18:28:42.657055Z",
     "shell.execute_reply": "2024-03-08T18:28:42.655978Z"
    },
    "papermill": {
     "duration": 0.027644,
     "end_time": "2024-03-08T18:28:42.659462",
     "exception": false,
     "start_time": "2024-03-08T18:28:42.631818",
     "status": "completed"
    },
    "tags": []
   },
   "outputs": [
    {
     "data": {
      "text/plain": [
       "1      1770.0\n",
       "2      1756.0\n",
       "3      1685.0\n",
       "4      1813.0\n",
       "5      1732.0\n",
       "        ...  \n",
       "96     1876.0\n",
       "97     1098.0\n",
       "98     1804.0\n",
       "99     1865.0\n",
       "100    1566.0\n",
       "Name: Born, Length: 100, dtype: float64"
      ]
     },
     "execution_count": 16,
     "metadata": {},
     "output_type": "execute_result"
    }
   ],
   "source": [
    "df['Born']"
   ]
  },
  {
   "cell_type": "code",
   "execution_count": 17,
   "id": "488dfc65",
   "metadata": {
    "execution": {
     "iopub.execute_input": "2024-03-08T18:28:42.690851Z",
     "iopub.status.busy": "2024-03-08T18:28:42.689706Z",
     "iopub.status.idle": "2024-03-08T18:28:43.309376Z",
     "shell.execute_reply": "2024-03-08T18:28:43.308590Z"
    },
    "papermill": {
     "duration": 0.637475,
     "end_time": "2024-03-08T18:28:43.311497",
     "exception": false,
     "start_time": "2024-03-08T18:28:42.674022",
     "status": "completed"
    },
    "tags": []
   },
   "outputs": [
    {
     "name": "stderr",
     "output_type": "stream",
     "text": [
      "/opt/conda/lib/python3.10/site-packages/seaborn/_oldcore.py:1119: FutureWarning: use_inf_as_na option is deprecated and will be removed in a future version. Convert inf values to NaN before operating instead.\n",
      "  with pd.option_context('mode.use_inf_as_na', True):\n"
     ]
    },
    {
     "data": {
      "image/png": "[encoded data removed]",
      "text/plain": [
       "<Figure size 1000x700 with 1 Axes>"
      ]
     },
     "metadata": {},
     "output_type": "display_data"
    }
   ],
   "source": [
    "plt.figure(figsize=(10, 7))\n",
    "sns.histplot(data=df, x='Born', bins=50, color='skyblue', kde=True)\n",
    "plt.title('Distribution of Birth Years')\n",
    "plt.xlabel('Birth Year')\n",
    "plt.ylabel('Density')\n",
    "plt.grid(True)\n",
    "plt.tight_layout()\n",
    "plt.show()"
   ]
  },
  {
   "cell_type": "code",
   "execution_count": 18,
   "id": "5df200a3",
   "metadata": {
    "execution": {
     "iopub.execute_input": "2024-03-08T18:28:43.343329Z",
     "iopub.status.busy": "2024-03-08T18:28:43.342348Z",
     "iopub.status.idle": "2024-03-08T18:28:43.349003Z",
     "shell.execute_reply": "2024-03-08T18:28:43.347968Z"
    },
    "papermill": {
     "duration": 0.02491,
     "end_time": "2024-03-08T18:28:43.351199",
     "exception": false,
     "start_time": "2024-03-08T18:28:43.326289",
     "status": "completed"
    },
    "tags": []
   },
   "outputs": [
    {
     "name": "stdout",
     "output_type": "stream",
     "text": [
      "Skewness = -1.9524173112387626\n",
      "Kurtosis = 4.1355794732669064\n"
     ]
    }
   ],
   "source": [
    "birth_year_skew = df['Born'].skew()\n",
    "birth_year_kurtosis = df['Born'].kurtosis()\n",
    "\n",
    "print(f'Skewness = {birth_year_skew}')\n",
    "print(f'Kurtosis = {birth_year_kurtosis}')"
   ]
  },
  {
   "cell_type": "markdown",
   "id": "e810e218",
   "metadata": {
    "papermill": {
     "duration": 0.014873,
     "end_time": "2024-03-08T18:28:43.381366",
     "exception": false,
     "start_time": "2024-03-08T18:28:43.366493",
     "status": "completed"
    },
    "tags": []
   },
   "source": [
    "- Skewness = -1.9524173112387626: This negative skewness indicates that the distribution is skewed to the left, meaning that the left tail is longer or there are more outliers on the left side of the distribution compared to the right side.\n",
    "\n",
    "- Kurtosis = 4.1355794732669064: This positive kurtosis value indicates that the distribution has heavier tails and is more peaked than a normal distribution. It suggests that the distribution has more outliers and is more sharply peaked around the mean compared to a normal distribution, which has a kurtosis of 3."
   ]
  },
  {
   "cell_type": "markdown",
   "id": "c4a7ad7d",
   "metadata": {
    "papermill": {
     "duration": 0.014929,
     "end_time": "2024-03-08T18:28:43.411702",
     "exception": false,
     "start_time": "2024-03-08T18:28:43.396773",
     "status": "completed"
    },
    "tags": []
   },
   "source": [
    "Clearly, most of the composers were born in 1800-1900."
   ]
  },
  {
   "cell_type": "code",
   "execution_count": 19,
   "id": "92ed0224",
   "metadata": {
    "execution": {
     "iopub.execute_input": "2024-03-08T18:28:43.444168Z",
     "iopub.status.busy": "2024-03-08T18:28:43.443743Z",
     "iopub.status.idle": "2024-03-08T18:28:43.956534Z",
     "shell.execute_reply": "2024-03-08T18:28:43.955441Z"
    },
    "papermill": {
     "duration": 0.531911,
     "end_time": "2024-03-08T18:28:43.958915",
     "exception": false,
     "start_time": "2024-03-08T18:28:43.427004",
     "status": "completed"
    },
    "tags": []
   },
   "outputs": [
    {
     "name": "stderr",
     "output_type": "stream",
     "text": [
      "/opt/conda/lib/python3.10/site-packages/seaborn/_oldcore.py:1119: FutureWarning: use_inf_as_na option is deprecated and will be removed in a future version. Convert inf values to NaN before operating instead.\n",
      "  with pd.option_context('mode.use_inf_as_na', True):\n"
     ]
    },
    {
     "data": {
      "image/png": "[encoded data removed]",
      "text/plain": [
       "<Figure size 1000x700 with 1 Axes>"
      ]
     },
     "metadata": {},
     "output_type": "display_data"
    }
   ],
   "source": [
    "plt.figure(figsize=(10, 7))\n",
    "sns.histplot(data=df, x='Died', bins=50, color='skyblue', kde=True)\n",
    "plt.title('Distribution of Birth Years')\n",
    "plt.xlabel('Birth Year')\n",
    "plt.ylabel('Density')\n",
    "plt.grid(True)\n",
    "plt.tight_layout()\n",
    "plt.show()"
   ]
  },
  {
   "cell_type": "markdown",
   "id": "52a979c3",
   "metadata": {
    "papermill": {
     "duration": 0.015665,
     "end_time": "2024-03-08T18:28:43.990411",
     "exception": false,
     "start_time": "2024-03-08T18:28:43.974746",
     "status": "completed"
    },
    "tags": []
   },
   "source": [
    "This plot was expected to be similar to that of the previous plot."
   ]
  },
  {
   "cell_type": "code",
   "execution_count": 20,
   "id": "4e69ee37",
   "metadata": {
    "execution": {
     "iopub.execute_input": "2024-03-08T18:28:44.024819Z",
     "iopub.status.busy": "2024-03-08T18:28:44.024355Z",
     "iopub.status.idle": "2024-03-08T18:28:44.031683Z",
     "shell.execute_reply": "2024-03-08T18:28:44.030519Z"
    },
    "papermill": {
     "duration": 0.027173,
     "end_time": "2024-03-08T18:28:44.034070",
     "exception": false,
     "start_time": "2024-03-08T18:28:44.006897",
     "status": "completed"
    },
    "tags": []
   },
   "outputs": [
    {
     "name": "stdout",
     "output_type": "stream",
     "text": [
      "-1.861844045629341\n",
      "3.864908734382507\n"
     ]
    }
   ],
   "source": [
    "print(df['Died'].skew())\n",
    "print(df['Died'].kurtosis())"
   ]
  },
  {
   "cell_type": "markdown",
   "id": "79c42aeb",
   "metadata": {
    "papermill": {
     "duration": 0.016068,
     "end_time": "2024-03-08T18:28:44.067171",
     "exception": false,
     "start_time": "2024-03-08T18:28:44.051103",
     "status": "completed"
    },
    "tags": []
   },
   "source": [
    "These numbers confirm the above statement."
   ]
  },
  {
   "cell_type": "code",
   "execution_count": 21,
   "id": "671eb3c6",
   "metadata": {
    "execution": {
     "iopub.execute_input": "2024-03-08T18:28:44.102071Z",
     "iopub.status.busy": "2024-03-08T18:28:44.101629Z",
     "iopub.status.idle": "2024-03-08T18:28:44.107987Z",
     "shell.execute_reply": "2024-03-08T18:28:44.107203Z"
    },
    "papermill": {
     "duration": 0.026278,
     "end_time": "2024-03-08T18:28:44.110070",
     "exception": false,
     "start_time": "2024-03-08T18:28:44.083792",
     "status": "completed"
    },
    "tags": []
   },
   "outputs": [
    {
     "data": {
      "text/plain": [
       "Index(['Composer', 'Nationality', 'Born', 'Died', 'Biggest Piece',\n",
       "       'Duration of Biggest Piece(mins)'],\n",
       "      dtype='object')"
      ]
     },
     "execution_count": 21,
     "metadata": {},
     "output_type": "execute_result"
    }
   ],
   "source": [
    "df.columns"
   ]
  },
  {
   "cell_type": "code",
   "execution_count": 22,
   "id": "42af7214",
   "metadata": {
    "execution": {
     "iopub.execute_input": "2024-03-08T18:28:44.144636Z",
     "iopub.status.busy": "2024-03-08T18:28:44.144184Z",
     "iopub.status.idle": "2024-03-08T18:28:44.159353Z",
     "shell.execute_reply": "2024-03-08T18:28:44.158014Z"
    },
    "papermill": {
     "duration": 0.035177,
     "end_time": "2024-03-08T18:28:44.161661",
     "exception": false,
     "start_time": "2024-03-08T18:28:44.126484",
     "status": "completed"
    },
    "tags": []
   },
   "outputs": [
    {
     "data": {
      "text/html": [
       "<div>\n",
       "<style scoped>\n",
       "    .dataframe tbody tr th:only-of-type {\n",
       "        vertical-align: middle;\n",
       "    }\n",
       "\n",
       "    .dataframe tbody tr th {\n",
       "        vertical-align: top;\n",
       "    }\n",
       "\n",
       "    .dataframe thead th {\n",
       "        text-align: right;\n",
       "    }\n",
       "</style>\n",
       "<table border=\"1\" class=\"dataframe\">\n",
       "  <thead>\n",
       "    <tr style=\"text-align: right;\">\n",
       "      <th></th>\n",
       "      <th>Composer</th>\n",
       "      <th>Nationality</th>\n",
       "      <th>Born</th>\n",
       "      <th>Died</th>\n",
       "      <th>Biggest Piece</th>\n",
       "      <th>Duration of Biggest Piece(mins)</th>\n",
       "    </tr>\n",
       "  </thead>\n",
       "  <tbody>\n",
       "    <tr>\n",
       "      <th>1</th>\n",
       "      <td>Ludwig van Beethoven</td>\n",
       "      <td>German</td>\n",
       "      <td>1770.0</td>\n",
       "      <td>1791.0</td>\n",
       "      <td>Symphony No. 9</td>\n",
       "      <td>65.0</td>\n",
       "    </tr>\n",
       "    <tr>\n",
       "      <th>2</th>\n",
       "      <td>Wolfgang Amadeus Mozart</td>\n",
       "      <td>Austrian</td>\n",
       "      <td>1756.0</td>\n",
       "      <td>1791.0</td>\n",
       "      <td>Symphony No.41</td>\n",
       "      <td>33.0</td>\n",
       "    </tr>\n",
       "    <tr>\n",
       "      <th>3</th>\n",
       "      <td>Johann Sebastian Bach</td>\n",
       "      <td>German</td>\n",
       "      <td>1685.0</td>\n",
       "      <td>1750.0</td>\n",
       "      <td>Mass in B minor</td>\n",
       "      <td>125.0</td>\n",
       "    </tr>\n",
       "    <tr>\n",
       "      <th>4</th>\n",
       "      <td>Richard Wagner</td>\n",
       "      <td>German</td>\n",
       "      <td>1813.0</td>\n",
       "      <td>1883.0</td>\n",
       "      <td>Der Ring des Nibelungen</td>\n",
       "      <td>NaN</td>\n",
       "    </tr>\n",
       "    <tr>\n",
       "      <th>5</th>\n",
       "      <td>Joseph Haydn</td>\n",
       "      <td>Austrian</td>\n",
       "      <td>1732.0</td>\n",
       "      <td>1809.0</td>\n",
       "      <td>Symphony No. 45</td>\n",
       "      <td>25.0</td>\n",
       "    </tr>\n",
       "  </tbody>\n",
       "</table>\n",
       "</div>"
      ],
      "text/plain": [
       "                   Composer Nationality    Born    Died  \\\n",
       "1      Ludwig van Beethoven   German     1770.0  1791.0   \n",
       "2  Wolfgang Amadeus Mozart     Austrian  1756.0  1791.0   \n",
       "3    Johann Sebastian Bach    German     1685.0  1750.0   \n",
       "4            Richard Wagner   German     1813.0  1883.0   \n",
       "5             Joseph Haydn     Austrian  1732.0  1809.0   \n",
       "\n",
       "             Biggest Piece  Duration of Biggest Piece(mins)  \n",
       "1        Symphony No. 9                                65.0  \n",
       "2           Symphony No.41                             33.0  \n",
       "3          Mass in B minor                            125.0  \n",
       "4  Der Ring des Nibelungen                              NaN  \n",
       "5          Symphony No. 45                             25.0  "
      ]
     },
     "execution_count": 22,
     "metadata": {},
     "output_type": "execute_result"
    }
   ],
   "source": [
    "df.head()"
   ]
  },
  {
   "cell_type": "code",
   "execution_count": 23,
   "id": "ef734683",
   "metadata": {
    "execution": {
     "iopub.execute_input": "2024-03-08T18:28:44.200620Z",
     "iopub.status.busy": "2024-03-08T18:28:44.199679Z",
     "iopub.status.idle": "2024-03-08T18:28:44.537896Z",
     "shell.execute_reply": "2024-03-08T18:28:44.536870Z"
    },
    "papermill": {
     "duration": 0.362391,
     "end_time": "2024-03-08T18:28:44.540629",
     "exception": false,
     "start_time": "2024-03-08T18:28:44.178238",
     "status": "completed"
    },
    "tags": []
   },
   "outputs": [
    {
     "data": {
      "image/png": "[encoded data removed]",
      "text/plain": [
       "<Figure size 1000x700 with 1 Axes>"
      ]
     },
     "metadata": {},
     "output_type": "display_data"
    }
   ],
   "source": [
    "plt.figure(figsize=(10, 7))\n",
    "df.groupby('Nationality')['Duration of Biggest Piece(mins)'].mean().dropna().sort_values(ascending=True).plot(kind='barh', color='teal')\n",
    "plt.xlabel('Mean Duration of Composition')\n",
    "plt.tight_layout()\n",
    "plt.show()"
   ]
  },
  {
   "cell_type": "code",
   "execution_count": 24,
   "id": "dea6e1ea",
   "metadata": {
    "execution": {
     "iopub.execute_input": "2024-03-08T18:28:44.577855Z",
     "iopub.status.busy": "2024-03-08T18:28:44.577450Z",
     "iopub.status.idle": "2024-03-08T18:28:44.586884Z",
     "shell.execute_reply": "2024-03-08T18:28:44.585768Z"
    },
    "papermill": {
     "duration": 0.031197,
     "end_time": "2024-03-08T18:28:44.589433",
     "exception": false,
     "start_time": "2024-03-08T18:28:44.558236",
     "status": "completed"
    },
    "tags": []
   },
   "outputs": [
    {
     "data": {
      "text/plain": [
       "array(['German', 'Austrian', 'Russian', 'Polish', 'French', 'Hungarian',\n",
       "       'Czech', 'Italian', 'Finnish', 'English', 'Flemish', 'Norweigen',\n",
       "       'American', 'Belgian', 'Franco-Flemish', 'Danish', 'Spanish'],\n",
       "      dtype=object)"
      ]
     },
     "execution_count": 24,
     "metadata": {},
     "output_type": "execute_result"
    }
   ],
   "source": [
    "# remove white spaces from the column values\n",
    "df['Nationality'] = df['Nationality'].apply(lambda x: x.strip())\n",
    "df['Nationality'].unique()"
   ]
  },
  {
   "cell_type": "markdown",
   "id": "8f0f2c36",
   "metadata": {
    "papermill": {
     "duration": 0.017501,
     "end_time": "2024-03-08T18:28:44.624341",
     "exception": false,
     "start_time": "2024-03-08T18:28:44.606840",
     "status": "completed"
    },
    "tags": []
   },
   "source": [
    "## Composers with the longest duration of their biggest piece"
   ]
  },
  {
   "cell_type": "code",
   "execution_count": 25,
   "id": "d8f62df5",
   "metadata": {
    "execution": {
     "iopub.execute_input": "2024-03-08T18:28:44.661123Z",
     "iopub.status.busy": "2024-03-08T18:28:44.660741Z",
     "iopub.status.idle": "2024-03-08T18:28:44.678726Z",
     "shell.execute_reply": "2024-03-08T18:28:44.677546Z"
    },
    "papermill": {
     "duration": 0.039272,
     "end_time": "2024-03-08T18:28:44.681037",
     "exception": false,
     "start_time": "2024-03-08T18:28:44.641765",
     "status": "completed"
    },
    "tags": []
   },
   "outputs": [
    {
     "data": {
      "text/html": [
       "<div>\n",
       "<style scoped>\n",
       "    .dataframe tbody tr th:only-of-type {\n",
       "        vertical-align: middle;\n",
       "    }\n",
       "\n",
       "    .dataframe tbody tr th {\n",
       "        vertical-align: top;\n",
       "    }\n",
       "\n",
       "    .dataframe thead th {\n",
       "        text-align: right;\n",
       "    }\n",
       "</style>\n",
       "<table border=\"1\" class=\"dataframe\">\n",
       "  <thead>\n",
       "    <tr style=\"text-align: right;\">\n",
       "      <th></th>\n",
       "      <th>Composer</th>\n",
       "      <th>Nationality</th>\n",
       "      <th>Born</th>\n",
       "      <th>Died</th>\n",
       "      <th>Biggest Piece</th>\n",
       "      <th>Duration of Biggest Piece(mins)</th>\n",
       "    </tr>\n",
       "  </thead>\n",
       "  <tbody>\n",
       "    <tr>\n",
       "      <th>27</th>\n",
       "      <td>Claudio Monteverdi</td>\n",
       "      <td>Italian</td>\n",
       "      <td>1567.0</td>\n",
       "      <td>1643.0</td>\n",
       "      <td>L'Orfeo</td>\n",
       "      <td>135.0</td>\n",
       "    </tr>\n",
       "    <tr>\n",
       "      <th>9</th>\n",
       "      <td>George Frideric Handel</td>\n",
       "      <td>German</td>\n",
       "      <td>1685.0</td>\n",
       "      <td>1759.0</td>\n",
       "      <td>Messiah</td>\n",
       "      <td>135.0</td>\n",
       "    </tr>\n",
       "    <tr>\n",
       "      <th>3</th>\n",
       "      <td>Johann Sebastian Bach</td>\n",
       "      <td>German</td>\n",
       "      <td>1685.0</td>\n",
       "      <td>1750.0</td>\n",
       "      <td>Mass in B minor</td>\n",
       "      <td>125.0</td>\n",
       "    </tr>\n",
       "    <tr>\n",
       "      <th>25</th>\n",
       "      <td>Anton Bruckner</td>\n",
       "      <td>Austrian</td>\n",
       "      <td>1824.0</td>\n",
       "      <td>1896.0</td>\n",
       "      <td>Symphony No. 8</td>\n",
       "      <td>80.0</td>\n",
       "    </tr>\n",
       "    <tr>\n",
       "      <th>62</th>\n",
       "      <td>Roland de Lassus</td>\n",
       "      <td>Franco-Flemish</td>\n",
       "      <td>1532.0</td>\n",
       "      <td>1594.0</td>\n",
       "      <td>Lagrime di San Pietro</td>\n",
       "      <td>75.0</td>\n",
       "    </tr>\n",
       "  </tbody>\n",
       "</table>\n",
       "</div>"
      ],
      "text/plain": [
       "                   Composer     Nationality    Born    Died  \\\n",
       "27       Claudio Monteverdi         Italian  1567.0  1643.0   \n",
       "9   George Frideric Handel           German  1685.0  1759.0   \n",
       "3    Johann Sebastian Bach           German  1685.0  1750.0   \n",
       "25           Anton Bruckner        Austrian  1824.0  1896.0   \n",
       "62         Roland de Lassus  Franco-Flemish  1532.0  1594.0   \n",
       "\n",
       "            Biggest Piece  Duration of Biggest Piece(mins)  \n",
       "27                L'Orfeo                            135.0  \n",
       "9              Messiah                               135.0  \n",
       "3         Mass in B minor                            125.0  \n",
       "25         Symphony No. 8                             80.0  \n",
       "62  Lagrime di San Pietro                             75.0  "
      ]
     },
     "execution_count": 25,
     "metadata": {},
     "output_type": "execute_result"
    }
   ],
   "source": [
    "df.sort_values(by='Duration of Biggest Piece(mins)', ascending=False)[:5]"
   ]
  },
  {
   "cell_type": "markdown",
   "id": "00f45e36",
   "metadata": {
    "papermill": {
     "duration": 0.017387,
     "end_time": "2024-03-08T18:28:44.716097",
     "exception": false,
     "start_time": "2024-03-08T18:28:44.698710",
     "status": "completed"
    },
    "tags": []
   },
   "source": [
    "## Composers with the shortest duration of their biggest piece"
   ]
  },
  {
   "cell_type": "code",
   "execution_count": 26,
   "id": "fa4e893c",
   "metadata": {
    "execution": {
     "iopub.execute_input": "2024-03-08T18:28:44.814408Z",
     "iopub.status.busy": "2024-03-08T18:28:44.813464Z",
     "iopub.status.idle": "2024-03-08T18:28:44.829000Z",
     "shell.execute_reply": "2024-03-08T18:28:44.827964Z"
    },
    "papermill": {
     "duration": 0.036951,
     "end_time": "2024-03-08T18:28:44.831319",
     "exception": false,
     "start_time": "2024-03-08T18:28:44.794368",
     "status": "completed"
    },
    "tags": []
   },
   "outputs": [
    {
     "data": {
      "text/html": [
       "<div>\n",
       "<style scoped>\n",
       "    .dataframe tbody tr th:only-of-type {\n",
       "        vertical-align: middle;\n",
       "    }\n",
       "\n",
       "    .dataframe tbody tr th {\n",
       "        vertical-align: top;\n",
       "    }\n",
       "\n",
       "    .dataframe thead th {\n",
       "        text-align: right;\n",
       "    }\n",
       "</style>\n",
       "<table border=\"1\" class=\"dataframe\">\n",
       "  <thead>\n",
       "    <tr style=\"text-align: right;\">\n",
       "      <th></th>\n",
       "      <th>Composer</th>\n",
       "      <th>Nationality</th>\n",
       "      <th>Born</th>\n",
       "      <th>Died</th>\n",
       "      <th>Biggest Piece</th>\n",
       "      <th>Duration of Biggest Piece(mins)</th>\n",
       "    </tr>\n",
       "  </thead>\n",
       "  <tbody>\n",
       "    <tr>\n",
       "      <th>91</th>\n",
       "      <td>Orlando Gibbons</td>\n",
       "      <td>English</td>\n",
       "      <td>1583.0</td>\n",
       "      <td>1625.0</td>\n",
       "      <td>Hosanna to the Son of David</td>\n",
       "      <td>4.0</td>\n",
       "    </tr>\n",
       "    <tr>\n",
       "      <th>61</th>\n",
       "      <td>Anton Webern</td>\n",
       "      <td>Austrian</td>\n",
       "      <td>1883.0</td>\n",
       "      <td>1945.0</td>\n",
       "      <td>Five Pieces for Orchestra</td>\n",
       "      <td>7.0</td>\n",
       "    </tr>\n",
       "    <tr>\n",
       "      <th>53</th>\n",
       "      <td>Erik Satie</td>\n",
       "      <td>French</td>\n",
       "      <td>1866.0</td>\n",
       "      <td>1925.0</td>\n",
       "      <td>Gymnopédies, Gnossiennes</td>\n",
       "      <td>7.0</td>\n",
       "    </tr>\n",
       "    <tr>\n",
       "      <th>93</th>\n",
       "      <td>Samuel Barber</td>\n",
       "      <td>American</td>\n",
       "      <td>1910.0</td>\n",
       "      <td>1981.0</td>\n",
       "      <td>Adagio for Strings, Knoxville: Summer of 1915</td>\n",
       "      <td>8.0</td>\n",
       "    </tr>\n",
       "    <tr>\n",
       "      <th>90</th>\n",
       "      <td>Darius Milhaud</td>\n",
       "      <td>French</td>\n",
       "      <td>1892.0</td>\n",
       "      <td>1974.0</td>\n",
       "      <td>Scaramouche, Le boeuf sur le toit</td>\n",
       "      <td>10.0</td>\n",
       "    </tr>\n",
       "  </tbody>\n",
       "</table>\n",
       "</div>"
      ],
      "text/plain": [
       "           Composer Nationality    Born    Died  \\\n",
       "91  Orlando Gibbons     English  1583.0  1625.0   \n",
       "61     Anton Webern    Austrian  1883.0  1945.0   \n",
       "53       Erik Satie      French  1866.0  1925.0   \n",
       "93    Samuel Barber    American  1910.0  1981.0   \n",
       "90   Darius Milhaud      French  1892.0  1974.0   \n",
       "\n",
       "                                    Biggest Piece  \\\n",
       "91                    Hosanna to the Son of David   \n",
       "61                      Five Pieces for Orchestra   \n",
       "53                       Gymnopédies, Gnossiennes   \n",
       "93  Adagio for Strings, Knoxville: Summer of 1915   \n",
       "90              Scaramouche, Le boeuf sur le toit   \n",
       "\n",
       "    Duration of Biggest Piece(mins)  \n",
       "91                              4.0  \n",
       "61                              7.0  \n",
       "53                              7.0  \n",
       "93                              8.0  \n",
       "90                             10.0  "
      ]
     },
     "execution_count": 26,
     "metadata": {},
     "output_type": "execute_result"
    }
   ],
   "source": [
    "df.sort_values(by='Duration of Biggest Piece(mins)', ascending=True)[:5]"
   ]
  },
  {
   "cell_type": "code",
   "execution_count": null,
   "id": "02daac25",
   "metadata": {
    "papermill": {
     "duration": 0.017751,
     "end_time": "2024-03-08T18:28:44.867243",
     "exception": false,
     "start_time": "2024-03-08T18:28:44.849492",
     "status": "completed"
    },
    "tags": []
   },
   "outputs": [],
   "source": []
  }
 ],
 "metadata": {
  "kaggle": {
   "accelerator": "none",
   "dataSources": [
    {
     "datasetId": 4454518,
     "sourceId": 7642689,
     "sourceType": "datasetVersion"
    }
   ],
   "dockerImageVersionId": 30664,
   "isGpuEnabled": false,
   "isInternetEnabled": true,
   "language": "python",
   "sourceType": "notebook"
  },
  "kernelspec": {
   "display_name": "Python 3",
   "language": "python",
   "name": "python3"
  },
  "language_info": {
   "codemirror_mode": {
    "name": "ipython",
    "version": 3
   },
   "file_extension": ".py",
   "mimetype": "text/x-python",
   "name": "python",
   "nbconvert_exporter": "python",
   "pygments_lexer": "ipython3",
   "version": "3.10.13"
  },
  "papermill": {
   "default_parameters": {},
   "duration": 8.99459,
   "end_time": "2024-03-08T18:28:45.505529",
   "environment_variables": {},
   "exception": null,
   "input_path": "__notebook__.ipynb",
   "output_path": "__notebook__.ipynb",
   "parameters": {},
   "start_time": "2024-03-08T18:28:36.510939",
   "version": "2.5.0"
  }
 },
 "nbformat": 4,
 "nbformat_minor": 5
}
